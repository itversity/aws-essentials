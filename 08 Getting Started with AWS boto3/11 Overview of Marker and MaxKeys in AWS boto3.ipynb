{
 "cells": [
  {
   "cell_type": "code",
   "execution_count": null,
   "metadata": {},
   "outputs": [],
   "source": [
    "import boto3"
   ]
  },
  {
   "cell_type": "code",
   "execution_count": null,
   "metadata": {},
   "outputs": [],
   "source": [
    "s3_client = boto3.client('s3')"
   ]
  },
  {
   "cell_type": "code",
   "execution_count": null,
   "metadata": {},
   "outputs": [],
   "source": [
    "s3_client.list_objects(\n",
    "    Bucket='aibotodemo'\n",
    ")"
   ]
  },
  {
   "cell_type": "code",
   "execution_count": null,
   "metadata": {},
   "outputs": [],
   "source": [
    "s3_client.list_objects(\n",
    "    Bucket='aibotodemo'\n",
    ")['Marker']"
   ]
  },
  {
   "cell_type": "code",
   "execution_count": null,
   "metadata": {},
   "outputs": [],
   "source": [
    "s3_client.list_objects(\n",
    "    Bucket='aibotodemo'\n",
    ")['MaxKeys']"
   ]
  },
  {
   "cell_type": "code",
   "execution_count": null,
   "metadata": {},
   "outputs": [],
   "source": [
    "s3_client.list_objects(\n",
    "    Bucket='aibotodemo',\n",
    "    MaxKeys=10\n",
    ")['Contents']"
   ]
  },
  {
   "cell_type": "code",
   "execution_count": null,
   "metadata": {},
   "outputs": [],
   "source": [
    "len(s3_client.list_objects(\n",
    "    Bucket='aibotodemo',\n",
    "    MaxKeys=10\n",
    ")['Contents'])"
   ]
  },
  {
   "cell_type": "code",
   "execution_count": null,
   "metadata": {},
   "outputs": [],
   "source": [
    "objects = s3_client. \\\n",
    "    list_objects(\n",
    "        Bucket='aibotodemo',\n",
    "        MaxKeys=10\n",
    "    )"
   ]
  },
  {
   "cell_type": "code",
   "execution_count": null,
   "metadata": {},
   "outputs": [],
   "source": [
    "for object in objects['Contents']:\n",
    "    print(object['Key'])"
   ]
  },
  {
   "cell_type": "code",
   "execution_count": null,
   "metadata": {},
   "outputs": [],
   "source": [
    "objects['Marker']"
   ]
  },
  {
   "cell_type": "code",
   "execution_count": null,
   "metadata": {},
   "outputs": [],
   "source": [
    "for object in s3_client. \\\n",
    "    list_objects(\n",
    "        Bucket='aibotodemo',\n",
    "        MaxKeys=10,\n",
    "        Marker='data/hr_db/countries/part-m-00000'\n",
    "    )['Contents']:\n",
    "    print(object['Key'])"
   ]
  },
  {
   "cell_type": "code",
   "execution_count": null,
   "metadata": {},
   "outputs": [],
   "source": [
    "objects['MaxKeys']"
   ]
  },
  {
   "cell_type": "code",
   "execution_count": null,
   "metadata": {},
   "outputs": [],
   "source": [
    "marker = objects['Contents'][-1]['Key']"
   ]
  },
  {
   "cell_type": "code",
   "execution_count": null,
   "metadata": {},
   "outputs": [],
   "source": [
    "for object in s3_client. \\\n",
    "    list_objects(\n",
    "        Bucket='aibotodemo',\n",
    "        MaxKeys=10,\n",
    "        Marker=marker\n",
    "    )['Contents']:\n",
    "    print(object['Key'])"
   ]
  },
  {
   "cell_type": "code",
   "execution_count": null,
   "metadata": {},
   "outputs": [],
   "source": [
    "max_keys = 10"
   ]
  },
  {
   "cell_type": "code",
   "execution_count": null,
   "metadata": {},
   "outputs": [],
   "source": [
    "marker = ''"
   ]
  },
  {
   "cell_type": "code",
   "execution_count": null,
   "metadata": {},
   "outputs": [],
   "source": [
    "while True:\n",
    "    objects = s3_client. \\\n",
    "        list_objects(\n",
    "            Bucket='aibotodemo',\n",
    "            Marker=marker,\n",
    "            MaxKeys=10\n",
    "        )\n",
    "    if not objects.get('Contents'):\n",
    "        break\n",
    "    for object in objects['Contents']:\n",
    "        print(object['Key'])\n",
    "    marker = objects['Contents'][-1]['Key']"
   ]
  },
  {
   "cell_type": "code",
   "execution_count": null,
   "metadata": {},
   "outputs": [],
   "source": [
    "ctr = 0\n",
    "marker = ''\n",
    "while True:\n",
    "    objects = s3_client. \\\n",
    "        list_objects(\n",
    "            Bucket='aibotodemo',\n",
    "            Marker=marker,\n",
    "            MaxKeys=max_keys\n",
    "        )\n",
    "    if not objects.get('Contents'):\n",
    "        break\n",
    "    for object in objects['Contents']:\n",
    "        ctr = ctr + 1\n",
    "        print(object['Key'])\n",
    "    marker = objects['Contents'][-1]['Key']\n",
    "\n",
    "print(ctr)"
   ]
  },
  {
   "cell_type": "code",
   "execution_count": null,
   "metadata": {},
   "outputs": [],
   "source": []
  }
 ],
 "metadata": {
  "kernelspec": {
   "display_name": "Python 3.9.12 ('ae-venv': venv)",
   "language": "python",
   "name": "python3"
  },
  "language_info": {
   "codemirror_mode": {
    "name": "ipython",
    "version": 3
   },
   "file_extension": ".py",
   "mimetype": "text/x-python",
   "name": "python",
   "nbconvert_exporter": "python",
   "pygments_lexer": "ipython3",
   "version": "3.9.12"
  },
  "orig_nbformat": 4,
  "vscode": {
   "interpreter": {
    "hash": "3c074bef27f3d450d1aa6f6e51efcc0bfa224c1c2e898b94148bcf729805f679"
   }
  }
 },
 "nbformat": 4,
 "nbformat_minor": 2
}
