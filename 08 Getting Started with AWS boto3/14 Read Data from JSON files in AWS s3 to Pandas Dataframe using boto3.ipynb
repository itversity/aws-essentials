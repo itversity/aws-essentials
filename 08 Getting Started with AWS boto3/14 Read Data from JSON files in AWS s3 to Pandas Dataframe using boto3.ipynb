{
 "cells": [
  {
   "cell_type": "code",
   "execution_count": null,
   "metadata": {},
   "outputs": [],
   "source": [
    "!aws s3 ls s3://aibotodemo/data/retail_db_json/orders/"
   ]
  },
  {
   "cell_type": "code",
   "execution_count": null,
   "metadata": {},
   "outputs": [],
   "source": [
    "import pandas as pd"
   ]
  },
  {
   "cell_type": "code",
   "execution_count": null,
   "metadata": {},
   "outputs": [],
   "source": [
    "orders_df = pd.read_json(\n",
    "    's3://aibotodemo/data/retail_db_json/orders/part-r-00000-990f5773-9005-49ba-b670-631286032674',\n",
    "    lines=True\n",
    ")"
   ]
  },
  {
   "cell_type": "code",
   "execution_count": null,
   "metadata": {},
   "outputs": [],
   "source": [
    "type(orders_df)"
   ]
  },
  {
   "cell_type": "code",
   "execution_count": null,
   "metadata": {},
   "outputs": [],
   "source": [
    "orders_df.head(10)"
   ]
  },
  {
   "cell_type": "code",
   "execution_count": null,
   "metadata": {},
   "outputs": [],
   "source": [
    "orders_df. \\\n",
    "    groupby('order_status')['order_id']. \\\n",
    "    count()"
   ]
  },
  {
   "cell_type": "code",
   "execution_count": null,
   "metadata": {},
   "outputs": [],
   "source": [
    "orders_df. \\\n",
    "    groupby('order_status')['order_id']. \\\n",
    "    agg(['count'])"
   ]
  },
  {
   "cell_type": "code",
   "execution_count": null,
   "metadata": {},
   "outputs": [],
   "source": [
    "orders_df. \\\n",
    "    groupby('order_status')['order_id']. \\\n",
    "    agg(['count']). \\\n",
    "    reset_index()"
   ]
  },
  {
   "cell_type": "code",
   "execution_count": null,
   "metadata": {},
   "outputs": [],
   "source": [
    "orders_df. \\\n",
    "    groupby('order_status')['order_id']. \\\n",
    "    agg(['count']). \\\n",
    "    reset_index(). \\\n",
    "    columns"
   ]
  },
  {
   "cell_type": "code",
   "execution_count": null,
   "metadata": {},
   "outputs": [],
   "source": [
    "orders_df. \\\n",
    "    groupby('order_status')['order_id']. \\\n",
    "    agg(['count']). \\\n",
    "    reset_index(). \\\n",
    "    dtypes"
   ]
  },
  {
   "cell_type": "code",
   "execution_count": null,
   "metadata": {},
   "outputs": [],
   "source": [
    "orders_df. \\\n",
    "    groupby('order_status')['order_id']. \\\n",
    "    agg(['count']). \\\n",
    "    reset_index(). \\\n",
    "    shape"
   ]
  },
  {
   "cell_type": "code",
   "execution_count": null,
   "metadata": {},
   "outputs": [],
   "source": []
  }
 ],
 "metadata": {
  "kernelspec": {
   "display_name": "Python 3.9.12 ('ae-venv': venv)",
   "language": "python",
   "name": "python3"
  },
  "language_info": {
   "codemirror_mode": {
    "name": "ipython",
    "version": 3
   },
   "file_extension": ".py",
   "mimetype": "text/x-python",
   "name": "python",
   "nbconvert_exporter": "python",
   "pygments_lexer": "ipython3",
   "version": "3.9.12"
  },
  "orig_nbformat": 4,
  "vscode": {
   "interpreter": {
    "hash": "3c074bef27f3d450d1aa6f6e51efcc0bfa224c1c2e898b94148bcf729805f679"
   }
  }
 },
 "nbformat": 4,
 "nbformat_minor": 2
}
