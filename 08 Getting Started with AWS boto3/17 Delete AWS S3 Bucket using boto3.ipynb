{
 "cells": [
  {
   "cell_type": "code",
   "execution_count": null,
   "metadata": {},
   "outputs": [],
   "source": [
    "!aws s3 rb s3://aibotodemo"
   ]
  },
  {
   "cell_type": "code",
   "execution_count": 1,
   "metadata": {},
   "outputs": [],
   "source": [
    "import boto3"
   ]
  },
  {
   "cell_type": "code",
   "execution_count": 2,
   "metadata": {},
   "outputs": [],
   "source": [
    "s3_client = boto3.client('s3')"
   ]
  },
  {
   "cell_type": "code",
   "execution_count": 3,
   "metadata": {},
   "outputs": [
    {
     "name": "stdout",
     "output_type": "stream",
     "text": [
      "\u001b[0;31mSignature:\u001b[0m \u001b[0ms3_client\u001b[0m\u001b[0;34m.\u001b[0m\u001b[0mdelete_bucket\u001b[0m\u001b[0;34m(\u001b[0m\u001b[0;34m*\u001b[0m\u001b[0margs\u001b[0m\u001b[0;34m,\u001b[0m \u001b[0;34m**\u001b[0m\u001b[0mkwargs\u001b[0m\u001b[0;34m)\u001b[0m\u001b[0;34m\u001b[0m\u001b[0;34m\u001b[0m\u001b[0m\n",
      "\u001b[0;31mDocstring:\u001b[0m\n",
      "Deletes the S3 bucket. All objects (including all object versions and delete markers) in the bucket must be deleted before the bucket itself can be deleted.\n",
      "\n",
      " \n",
      "\n",
      " **Related Resources**  \n",
      "\n",
      " \n",
      "\n",
      " \n",
      "* `CreateBucket <https://docs.aws.amazon.com/AmazonS3/latest/API/API_CreateBucket.html>`__   \n",
      " \n",
      "* `DeleteObject <https://docs.aws.amazon.com/AmazonS3/latest/API/API_DeleteObject.html>`__   \n",
      " \n",
      "\n",
      "\n",
      "\n",
      "See also: `AWS API Documentation <https://docs.aws.amazon.com/goto/WebAPI/s3-2006-03-01/DeleteBucket>`_\n",
      "\n",
      "\n",
      "**Request Syntax** \n",
      "::\n",
      "\n",
      "  response = client.delete_bucket(\n",
      "      Bucket='string',\n",
      "      ExpectedBucketOwner='string'\n",
      "  )\n",
      ":type Bucket: string\n",
      ":param Bucket: **[REQUIRED]** \n",
      "\n",
      "  Specifies the bucket being deleted.\n",
      "\n",
      "  \n",
      "\n",
      "\n",
      ":type ExpectedBucketOwner: string\n",
      ":param ExpectedBucketOwner: \n",
      "\n",
      "  The account ID of the expected bucket owner. If the bucket is owned by a different account, the request fails with the HTTP status code ``403 Forbidden`` (access denied).\n",
      "\n",
      "  \n",
      "\n",
      "\n",
      "\n",
      ":returns: None\n",
      "\u001b[0;31mFile:\u001b[0m      ~/Projects/Internal/bootcamp/itversity-material/aws-essentials/ae-venv/lib/python3.9/site-packages/botocore/client.py\n",
      "\u001b[0;31mType:\u001b[0m      method\n"
     ]
    }
   ],
   "source": [
    "s3_client.delete_bucket?"
   ]
  },
  {
   "cell_type": "code",
   "execution_count": 4,
   "metadata": {},
   "outputs": [
    {
     "data": {
      "text/plain": [
       "{'ResponseMetadata': {'RequestId': 'X390ABFNZE6V8STH',\n",
       "  'HostId': 'MURQbY2tWUAic89oz38mYpq8JArREk9NOCQMYBnU52mJnCEHGU2mDDyguu9WFby5CNBAkcN5lXQ=',\n",
       "  'HTTPStatusCode': 204,\n",
       "  'HTTPHeaders': {'x-amz-id-2': 'MURQbY2tWUAic89oz38mYpq8JArREk9NOCQMYBnU52mJnCEHGU2mDDyguu9WFby5CNBAkcN5lXQ=',\n",
       "   'x-amz-request-id': 'X390ABFNZE6V8STH',\n",
       "   'date': 'Wed, 06 Jul 2022 00:35:58 GMT',\n",
       "   'server': 'AmazonS3'},\n",
       "  'RetryAttempts': 0}}"
      ]
     },
     "execution_count": 4,
     "metadata": {},
     "output_type": "execute_result"
    }
   ],
   "source": [
    "s3_client.delete_bucket(Bucket='aibotodemo')"
   ]
  },
  {
   "cell_type": "code",
   "execution_count": 6,
   "metadata": {},
   "outputs": [
    {
     "name": "stdout",
     "output_type": "stream",
     "text": [
      "2022-07-03 18:25:35 aiathenaresults\n",
      "2022-06-08 05:23:35 aigithub\n",
      "2022-04-07 09:37:30 aiodatabricks\n",
      "2022-06-19 05:39:18 airetail\n",
      "2022-05-21 11:56:34 aispark\n",
      "2022-04-04 21:36:35 analytiqspractice\n",
      "2022-06-21 09:37:18 aws-emr-resources-269066542444-us-east-1\n",
      "2022-03-07 15:40:00 aws-logs-269066542444-us-east-1\n",
      "2022-04-22 22:41:45 databricks-workspace-stack-lambdazipsbucket-4syuukj0qwxk\n",
      "2022-04-22 22:41:46 db-bb6cc2ec5502ac309a2f318b635e55b8-s3-root-bucket\n",
      "2022-06-06 12:00:16 dgghactivity\n",
      "2022-03-23 20:55:15 sagemaker-studio-z19d0ssl0vk\n",
      "2022-06-02 11:05:44 stepfunctions-athena-sample-project-fqqxxln1v8\n",
      "2022-06-01 11:35:08 stepfunctions-athena-sample-project-sjqlvah38p\n"
     ]
    }
   ],
   "source": [
    "!aws s3 ls"
   ]
  },
  {
   "cell_type": "code",
   "execution_count": null,
   "metadata": {},
   "outputs": [],
   "source": []
  }
 ],
 "metadata": {
  "kernelspec": {
   "display_name": "Python 3.9.12 ('ae-venv': venv)",
   "language": "python",
   "name": "python3"
  },
  "language_info": {
   "codemirror_mode": {
    "name": "ipython",
    "version": 3
   },
   "file_extension": ".py",
   "mimetype": "text/x-python",
   "name": "python",
   "nbconvert_exporter": "python",
   "pygments_lexer": "ipython3",
   "version": "3.9.12"
  },
  "orig_nbformat": 4,
  "vscode": {
   "interpreter": {
    "hash": "3c074bef27f3d450d1aa6f6e51efcc0bfa224c1c2e898b94148bcf729805f679"
   }
  }
 },
 "nbformat": 4,
 "nbformat_minor": 2
}
